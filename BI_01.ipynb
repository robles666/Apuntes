{
  "nbformat": 4,
  "nbformat_minor": 0,
  "metadata": {
    "colab": {
      "provenance": [],
      "name": "BI_01.ipynb",
      "authorship_tag": "ABX9TyOQKQ7o1YOsuLPVWhF9rJya",
      "include_colab_link": true
    },
    "kernelspec": {
      "name": "python3",
      "display_name": "Python 3"
    },
    "language_info": {
      "name": "python"
    }
  },
  "cells": [
    {
      "cell_type": "markdown",
      "metadata": {
        "id": "view-in-github",
        "colab_type": "text"
      },
      "source": [
        "<a href=\"https://colab.research.google.com/github/robles666/Apuntes/blob/main/BI_01.ipynb\" target=\"_parent\"><img src=\"https://colab.research.google.com/assets/colab-badge.svg\" alt=\"Open In Colab\"/></a>"
      ]
    },
    {
      "cell_type": "code",
      "execution_count": 11,
      "metadata": {
        "id": "l0apnydzLLNl"
      },
      "outputs": [],
      "source": [
        "# business intelligence\n",
        "# fundamentos\n",
        "\n"
      ]
    },
    {
      "cell_type": "markdown",
      "source": [
        "# Luego de los fundamentos de Python"
      ],
      "metadata": {
        "id": "_jF-W_AJ-SNH"
      }
    },
    {
      "cell_type": "code",
      "source": [
        "# Funciones con argumentos definidos\n",
        "\n",
        "def funcion_prueba(lista, tipo = 2):\n",
        "  r = 0\n",
        "  for elemento in lista:\n",
        "    if tipo == 1:\n",
        "      r -= elemento # r = r - elemento\n",
        "    elif tipo == 2:\n",
        "      r += elemento # r = r + elemento\n",
        "  return r\n",
        "\n",
        "print(funcion_prueba([1,2,3,4,5]))\n",
        "\n",
        "print(funcion_prueba([1,2,3,4,5], tipo = 1))\n",
        "\n"
      ],
      "metadata": {
        "colab": {
          "base_uri": "https://localhost:8080/"
        },
        "id": "XQ5Lzx1y-NV4",
        "outputId": "8555ac5d-a6ea-4073-a2af-b3b09db7353b"
      },
      "execution_count": 22,
      "outputs": [
        {
          "output_type": "stream",
          "name": "stdout",
          "text": [
            "15\n",
            "-15\n"
          ]
        }
      ]
    },
    {
      "cell_type": "code",
      "source": [
        "# librerias\n",
        "\n",
        "import numpy as np\n",
        "\n",
        "lista = [1,2,3,4,5]\n",
        "\n",
        "np.mean(lista) # promedio"
      ],
      "metadata": {
        "id": "Hz2LvMcGCfaq",
        "outputId": "23ae5a50-a435-49ec-dcfb-bc21bb2d96b9",
        "colab": {
          "base_uri": "https://localhost:8080/"
        }
      },
      "execution_count": 23,
      "outputs": [
        {
          "output_type": "execute_result",
          "data": {
            "text/plain": [
              "3.0"
            ]
          },
          "metadata": {},
          "execution_count": 23
        }
      ]
    },
    {
      "cell_type": "code",
      "source": [
        "print(f\"MAX = {np.max(lista)}\") # maximo\n",
        "print(f\"MIN = {np.min(lista)}\") # minimo\n"
      ],
      "metadata": {
        "id": "Rg1usPJuDvt2",
        "outputId": "578468b4-89aa-44e7-e00b-877ed16cd00f",
        "colab": {
          "base_uri": "https://localhost:8080/"
        }
      },
      "execution_count": 24,
      "outputs": [
        {
          "output_type": "stream",
          "name": "stdout",
          "text": [
            "MAX = 5\n",
            "MIN = 1\n"
          ]
        }
      ]
    },
    {
      "cell_type": "code",
      "source": [
        "# [1,2,3]\n",
        "# [1,2,3,4,5]\n",
        "# [1,2,3,4,5]\n",
        "\n",
        "datos =  [1,2,3], [5, 10, 15], [4, 6, 8]\n",
        "\n",
        "np.mean(datos, axis = 1)"
      ],
      "metadata": {
        "id": "S9LguiheErAC",
        "outputId": "c63039dc-2e5c-4bef-9d7f-c4e3fb30874e",
        "colab": {
          "base_uri": "https://localhost:8080/"
        }
      },
      "execution_count": 27,
      "outputs": [
        {
          "output_type": "execute_result",
          "data": {
            "text/plain": [
              "array([ 2., 10.,  6.])"
            ]
          },
          "metadata": {},
          "execution_count": 27
        }
      ]
    },
    {
      "cell_type": "code",
      "source": [
        "np.mean(datos, axis = 0)"
      ],
      "metadata": {
        "id": "a_vWpMzNGCMc",
        "outputId": "347a070f-05b5-4b20-c1f9-9c2620a621e7",
        "colab": {
          "base_uri": "https://localhost:8080/"
        }
      },
      "execution_count": 29,
      "outputs": [
        {
          "output_type": "execute_result",
          "data": {
            "text/plain": [
              "array([3.33333333, 6.        , 8.66666667])"
            ]
          },
          "metadata": {},
          "execution_count": 29
        }
      ]
    },
    {
      "cell_type": "code",
      "source": [
        "np.mean(datos)"
      ],
      "metadata": {
        "id": "Lm-tl5z2F4F7",
        "outputId": "0b8a8df0-149f-4db4-d2a1-6cd92a8748bf",
        "colab": {
          "base_uri": "https://localhost:8080/"
        }
      },
      "execution_count": 28,
      "outputs": [
        {
          "output_type": "execute_result",
          "data": {
            "text/plain": [
              "6.0"
            ]
          },
          "metadata": {},
          "execution_count": 28
        }
      ]
    }
  ]
}